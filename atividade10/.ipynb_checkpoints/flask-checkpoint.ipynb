{
 "cells": [
  {
   "cell_type": "code",
   "execution_count": 41,
   "id": "ca66014e",
   "metadata": {},
   "outputs": [
    {
     "name": "stdout",
     "output_type": "stream",
     "text": [
      " * Serving Flask app '__main__'\n",
      " * Debug mode: off\n"
     ]
    },
    {
     "name": "stderr",
     "output_type": "stream",
     "text": [
      "\u001b[31m\u001b[1mWARNING: This is a development server. Do not use it in a production deployment. Use a production WSGI server instead.\u001b[0m\n",
      " * Running on http://127.0.0.1:5000\n",
      "\u001b[33mPress CTRL+C to quit\u001b[0m\n",
      "127.0.0.1 - - [27/Apr/2023 11:15:50] \"GET / HTTP/1.1\" 200 -\n",
      "127.0.0.1 - - [27/Apr/2023 11:15:52] \"GET /login HTTP/1.1\" 200 -\n",
      "127.0.0.1 - - [27/Apr/2023 11:15:54] \"\u001b[32mPOST /register HTTP/1.1\u001b[0m\" 302 -\n",
      "127.0.0.1 - - [27/Apr/2023 11:15:54] \"GET / HTTP/1.1\" 200 -\n",
      "127.0.0.1 - - [27/Apr/2023 11:15:56] \"GET /?counter=1 HTTP/1.1\" 200 -\n",
      "127.0.0.1 - - [27/Apr/2023 11:15:57] \"GET /?counter=2 HTTP/1.1\" 200 -\n",
      "127.0.0.1 - - [27/Apr/2023 11:15:57] \"GET /?counter=3 HTTP/1.1\" 200 -\n",
      "127.0.0.1 - - [27/Apr/2023 11:15:57] \"GET /?counter=4 HTTP/1.1\" 200 -\n",
      "127.0.0.1 - - [27/Apr/2023 11:15:57] \"GET /?counter=5 HTTP/1.1\" 200 -\n",
      "127.0.0.1 - - [27/Apr/2023 11:15:58] \"GET /?counter=6 HTTP/1.1\" 200 -\n",
      "127.0.0.1 - - [27/Apr/2023 11:15:58] \"GET /?counter=7 HTTP/1.1\" 200 -\n",
      "127.0.0.1 - - [27/Apr/2023 11:16:07] \"GET /?counter=8 HTTP/1.1\" 200 -\n",
      "127.0.0.1 - - [27/Apr/2023 11:16:07] \"\u001b[33mGET /favicon.ico HTTP/1.1\u001b[0m\" 404 -\n",
      "127.0.0.1 - - [27/Apr/2023 11:16:15] \"GET /?counter=80 HTTP/1.1\" 200 -\n",
      "127.0.0.1 - - [27/Apr/2023 11:16:16] \"\u001b[33mGET /favicon.ico HTTP/1.1\u001b[0m\" 404 -\n",
      "127.0.0.1 - - [27/Apr/2023 11:16:18] \"GET /?counter=81 HTTP/1.1\" 200 -\n",
      "127.0.0.1 - - [27/Apr/2023 11:16:19] \"\u001b[33mGET /favicon.ico HTTP/1.1\u001b[0m\" 404 -\n",
      "127.0.0.1 - - [27/Apr/2023 11:16:23] \"GET /?counter=82 HTTP/1.1\" 200 -\n",
      "127.0.0.1 - - [27/Apr/2023 11:16:23] \"\u001b[33mGET /favicon.ico HTTP/1.1\u001b[0m\" 404 -\n",
      "127.0.0.1 - - [27/Apr/2023 11:16:24] \"GET /?counter=83 HTTP/1.1\" 200 -\n",
      "127.0.0.1 - - [27/Apr/2023 11:16:24] \"\u001b[33mGET /favicon.ico HTTP/1.1\u001b[0m\" 404 -\n",
      "127.0.0.1 - - [27/Apr/2023 11:16:25] \"GET /?counter=84 HTTP/1.1\" 200 -\n",
      "127.0.0.1 - - [27/Apr/2023 11:16:25] \"\u001b[33mGET /favicon.ico HTTP/1.1\u001b[0m\" 404 -\n",
      "127.0.0.1 - - [27/Apr/2023 11:16:26] \"GET /login HTTP/1.1\" 200 -\n",
      "127.0.0.1 - - [27/Apr/2023 11:16:26] \"\u001b[33mGET /favicon.ico HTTP/1.1\u001b[0m\" 404 -\n",
      "127.0.0.1 - - [27/Apr/2023 11:16:28] \"\u001b[32mPOST /register HTTP/1.1\u001b[0m\" 302 -\n",
      "127.0.0.1 - - [27/Apr/2023 11:16:28] \"GET / HTTP/1.1\" 200 -\n",
      "127.0.0.1 - - [27/Apr/2023 11:16:28] \"\u001b[33mGET /favicon.ico HTTP/1.1\u001b[0m\" 404 -\n",
      "127.0.0.1 - - [27/Apr/2023 11:16:29] \"GET /?counter=1 HTTP/1.1\" 200 -\n",
      "127.0.0.1 - - [27/Apr/2023 11:16:29] \"\u001b[33mGET /favicon.ico HTTP/1.1\u001b[0m\" 404 -\n"
     ]
    }
   ],
   "source": [
    "from flask import Flask, render_template, request, make_response, session, redirect\n",
    "from datetime import datetime, timedelta, timezone\n",
    "app = Flask(__name__, template_folder='')\n",
    "app.config['PERMANENT_SESSION_LIFETIME'] = timedelta(seconds=30)\n",
    "app.config['accesses'] = 0\n",
    "app.secret_key = 'EXA84_4'\n",
    "\n",
    "@app.route('/login', methods=['GET'])\n",
    "def login():\n",
    "  return render_template('login.html')\n",
    "\n",
    "\n",
    "@app.route('/register', methods=['POST'])\n",
    "def register():\n",
    "  username = request.form['username']\n",
    "  session['username'] = username\n",
    "  session['_creation_time'] = datetime.now(timezone.utc)\n",
    "  app.config['accesses'] += 1\n",
    "  \n",
    "  if 'accesses' in request.cookies:\n",
    "    accesses = int(request.cookies.get('accesses'))\n",
    "  else:\n",
    "    accesses = 1\n",
    "  resp = make_response(redirect('/'))\n",
    "  resp.set_cookie('accesses', str(accesses + 1).encode('utf-8'), max_age=24*60*60)    \n",
    "  return resp\n",
    "\n",
    "@app.route('/')\n",
    "def home():  \n",
    "  if 'username' in session:\n",
    "    username = session['username']\n",
    "    running_time = (datetime.now(timezone.utc) - session.get('_creation_time'))\n",
    "    remaining_time = app.permanent_session_lifetime - running_time    \n",
    "    counter_value = request.args.get('counter',default=0, type=int) + 1\n",
    "    \n",
    "    if 'accesses' in request.cookies:\n",
    "      accesses = int(request.cookies.get('accesses'))\n",
    "    else:\n",
    "      accesses = 1\n",
    "    resp = make_response(render_template('home.html', counter=counter_value, username=username, remaining_time=remaining_time, accesses=accesses))\n",
    "    resp.set_cookie('accesses', str(accesses).encode('utf-8'), max_age=24*60*60)    \n",
    "    return resp\n",
    "  else:\n",
    "    return 'Welcome to Flask Session Example! <a href=\"/login\">Login</a>'\n",
    "\n",
    "if __name__ == '__main__':\n",
    "  app.run(debug=False)\n"
   ]
  },
  {
   "cell_type": "code",
   "execution_count": null,
   "id": "72b59a7d",
   "metadata": {},
   "outputs": [],
   "source": []
  }
 ],
 "metadata": {
  "kernelspec": {
   "display_name": "Python 3 (ipykernel)",
   "language": "python",
   "name": "python3"
  },
  "language_info": {
   "codemirror_mode": {
    "name": "ipython",
    "version": 3
   },
   "file_extension": ".py",
   "mimetype": "text/x-python",
   "name": "python",
   "nbconvert_exporter": "python",
   "pygments_lexer": "ipython3",
   "version": "3.7.13"
  }
 },
 "nbformat": 4,
 "nbformat_minor": 5
}

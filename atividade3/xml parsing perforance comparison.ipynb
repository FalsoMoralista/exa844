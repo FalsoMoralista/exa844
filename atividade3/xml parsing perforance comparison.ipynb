{
 "cells": [
  {
   "cell_type": "code",
   "execution_count": 69,
   "id": "46f29e83",
   "metadata": {},
   "outputs": [],
   "source": [
    "from xml.dom.minidom import parse\n",
    "import xml.sax\n",
    "import time"
   ]
  },
  {
   "cell_type": "code",
   "execution_count": 80,
   "id": "3aa78233",
   "metadata": {},
   "outputs": [
    {
     "name": "stdout",
     "output_type": "stream",
     "text": [
      "--- 0.038271188735961914 seconds ---\n"
     ]
    }
   ],
   "source": [
    "city_doc = parse('irece.osm')\n",
    "def parser(content):\n",
    "  city_info = []\n",
    "  for node in city_doc.getElementsByTagName('node'):\n",
    "    arr = []\n",
    "    f = 0\n",
    "    for tag in node.getElementsByTagName('tag'):\n",
    "      if tag.getAttribute('k') == 'amenity':\n",
    "        lat = node.getAttributeNode('lat').firstChild.data\n",
    "        lon = node.getAttributeNode('lon').firstChild.data\n",
    "        arr.append(tag.getAttribute('v'))\n",
    "        arr.append(lat)\n",
    "        arr.append(lon)\n",
    "        f = 1\n",
    "      if tag.getAttribute('k') == 'name' and f == 1:\n",
    "        arr.append(tag.getAttribute('v'))\n",
    "        info = {'name' : arr[3], 'type': arr[0], 'lat': arr[1], 'lon': arr[2]}\n",
    "        city_info.append(info)\n",
    "  return city_info\n",
    "\n",
    "start_time = time.time()\n",
    "city_info = parser(city_doc)\n",
    "end_time = time.time()\n",
    "elapsed_dom_parser = (end_time - start_time)\n",
    "print(\"--- %s seconds ---\" % elapsed_dom_parser)"
   ]
  },
  {
   "cell_type": "code",
   "execution_count": 75,
   "id": "faa3c947",
   "metadata": {
    "scrolled": true
   },
   "outputs": [
    {
     "data": {
      "text/plain": [
       "[{'name': 'Restaurante João Dourado',\n",
       "  'type': 'restaurant',\n",
       "  'lat': '-11.3037224',\n",
       "  'lon': '-41.8581656'},\n",
       " {'name': 'Bradesco',\n",
       "  'type': 'bank',\n",
       "  'lat': '-11.3029732',\n",
       "  'lon': '-41.8572450'},\n",
       " {'name': 'Farma MiX',\n",
       "  'type': 'pharmacy',\n",
       "  'lat': '-11.3031678',\n",
       "  'lon': '-41.8584142'},\n",
       " {'name': 'DIREC',\n",
       "  'type': 'school',\n",
       "  'lat': '-11.3036733',\n",
       "  'lon': '-41.8560591'},\n",
       " {'name': 'Caixa Econômica Federal',\n",
       "  'type': 'bank',\n",
       "  'lat': '-11.3029000',\n",
       "  'lon': '-41.8556083'},\n",
       " {'name': 'Correios',\n",
       "  'type': 'post_office',\n",
       "  'lat': '-11.3083862',\n",
       "  'lon': '-41.8569280'},\n",
       " {'name': 'UFBA',\n",
       "  'type': 'school',\n",
       "  'lat': '-11.3073605',\n",
       "  'lon': '-41.8571962'},\n",
       " {'name': 'Escola Rui Barbosa',\n",
       "  'type': 'school',\n",
       "  'lat': '-11.3020385',\n",
       "  'lon': '-41.8502219'},\n",
       " {'name': 'Colegio Odete Nunes Dourado',\n",
       "  'type': 'school',\n",
       "  'lat': '-11.3059348',\n",
       "  'lon': '-41.8662628'},\n",
       " {'name': 'Restaurante Prakasa Dia e Noite',\n",
       "  'type': 'restaurant',\n",
       "  'lat': '-11.3021755',\n",
       "  'lon': '-41.8480638'},\n",
       " {'name': 'Banco do Nordeste',\n",
       "  'type': 'bank',\n",
       "  'lat': '-11.3035107',\n",
       "  'lon': '-41.8578733'}]"
      ]
     },
     "execution_count": 75,
     "metadata": {},
     "output_type": "execute_result"
    }
   ],
   "source": [
    "city_info"
   ]
  },
  {
   "cell_type": "code",
   "execution_count": 81,
   "id": "7d9f0f26",
   "metadata": {},
   "outputs": [
    {
     "name": "stdout",
     "output_type": "stream",
     "text": [
      "Starting SAX Parser...\n",
      "--- 0.15914225578308105 seconds ---\n"
     ]
    }
   ],
   "source": [
    "class Listener(xml.sax.ContentHandler):\n",
    "  \n",
    "  def __init__(self):    \n",
    "    self.city_info = []\n",
    "    self.name = ''\n",
    "    self.type = ''\n",
    "    self.lat = ''\n",
    "    self.lon = ''\n",
    "    self.serialize = False\n",
    "    self.isAmenity = False\n",
    "\n",
    "  def startElement(self, tag, attributes):        \n",
    "    if tag == 'node':\n",
    "      if 'lat' in attributes.getNames() and 'lon' in attributes.getNames():\n",
    "        self.lat = attributes.get('lat')\n",
    "        self.lon = attributes.get('lon')\n",
    "    if tag == 'tag':\n",
    "      if 'k' in attributes.getNames():\n",
    "        if attributes.get('k') == 'amenity':\n",
    "          self.type = attributes.get('v')\n",
    "          self.isAmenity = True\n",
    "        if attributes.get('k') == 'name' and self.isAmenity:\n",
    "          self.name = attributes.get('v')\n",
    "          self.serialize = True\n",
    "          \n",
    "  def restart(self):\n",
    "    self.name = ''\n",
    "    self.type = ''\n",
    "    self.lat = ''\n",
    "    self.lon = ''\n",
    "    self.serialize = False\n",
    "    self.isAmenity = False\n",
    "        \n",
    "  def endElement(self, tag):    \n",
    "    if tag =='node':\n",
    "      if len(self.lat) > 0 and len(self.lon) > 0:\n",
    "        if self.serialize == True:\n",
    "          self.city_info.append({'name' : self.name, 'type': self.type, 'lat': self.lat, 'lon': self.lon})\n",
    "      self.restart()      \n",
    "      \n",
    "parser =  xml.sax.make_parser()\n",
    "\n",
    "Handler = Listener()\n",
    "parser.setContentHandler(Handler)\n",
    "print(\"Starting SAX Parser...\")\n",
    "\n",
    "start_time = time.time()\n",
    "parser.parse('irece.osm')\n",
    "end_time = time.time()\n",
    "elapsed_sax_parser = (end_time - start_time)\n",
    "print(\"--- %s seconds ---\" % elapsed_sax_parser)\n",
    "#difference = elapsed_sax_parser / elapsed_dom_parser\n",
    "#print(difference)\n",
    "#print(Handler.city_info)"
   ]
  },
  {
   "cell_type": "code",
   "execution_count": 68,
   "id": "8b23513d",
   "metadata": {},
   "outputs": [
    {
     "data": {
      "text/plain": [
       "True"
      ]
     },
     "execution_count": 68,
     "metadata": {},
     "output_type": "execute_result"
    }
   ],
   "source": [
    "Handler.city_info == city_info"
   ]
  },
  {
   "cell_type": "code",
   "execution_count": 63,
   "id": "f4b9f66d",
   "metadata": {},
   "outputs": [
    {
     "data": {
      "text/plain": [
       "11"
      ]
     },
     "execution_count": 63,
     "metadata": {},
     "output_type": "execute_result"
    }
   ],
   "source": [
    "len(city_info)"
   ]
  },
  {
   "cell_type": "code",
   "execution_count": null,
   "id": "de5d2475",
   "metadata": {},
   "outputs": [],
   "source": []
  }
 ],
 "metadata": {
  "kernelspec": {
   "display_name": "Python 3 (ipykernel)",
   "language": "python",
   "name": "python3"
  },
  "language_info": {
   "codemirror_mode": {
    "name": "ipython",
    "version": 3
   },
   "file_extension": ".py",
   "mimetype": "text/x-python",
   "name": "python",
   "nbconvert_exporter": "python",
   "pygments_lexer": "ipython3",
   "version": "3.7.13"
  }
 },
 "nbformat": 4,
 "nbformat_minor": 5
}

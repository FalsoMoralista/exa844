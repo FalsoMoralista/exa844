{
 "cells": [
  {
   "cell_type": "code",
   "execution_count": 21,
   "id": "46f29e83",
   "metadata": {},
   "outputs": [],
   "source": [
    "from xml.dom.minidom import parse\n",
    "import xml.sax\n",
    "import time\n",
    "import json"
   ]
  },
  {
   "cell_type": "code",
   "execution_count": 25,
   "id": "3aa78233",
   "metadata": {},
   "outputs": [
    {
     "name": "stdout",
     "output_type": "stream",
     "text": [
      "--- 0.03973102569580078 seconds ---\n"
     ]
    }
   ],
   "source": [
    "city_doc = parse('irece.osm')\n",
    "def parser(content):\n",
    "  city_info = []\n",
    "  for node in city_doc.getElementsByTagName('node'):\n",
    "    arr = []\n",
    "    f = 0\n",
    "    for tag in node.getElementsByTagName('tag'):\n",
    "      if tag.getAttribute('k') == 'amenity':\n",
    "        lat = node.getAttributeNode('lat').firstChild.data\n",
    "        lon = node.getAttributeNode('lon').firstChild.data\n",
    "        arr.append(tag.getAttribute('v'))\n",
    "        arr.append(lat)\n",
    "        arr.append(lon)\n",
    "        f = 1\n",
    "      if tag.getAttribute('k') == 'name' and f == 1:\n",
    "        arr.append(tag.getAttribute('v'))\n",
    "        info = {'name' : arr[3], 'type': arr[0], 'lat': arr[1], 'lon': arr[2]}\n",
    "        city_info.append(info)\n",
    "  return city_info\n",
    "\n",
    "start_time = time.time()\n",
    "city_info = parser(city_doc)\n",
    "end_time = time.time()\n",
    "elapsed_dom_parser = (end_time - start_time)\n",
    "print(\"--- %s seconds ---\" % elapsed_dom_parser)"
   ]
  },
  {
   "cell_type": "code",
   "execution_count": 5,
   "id": "faa3c947",
   "metadata": {
    "scrolled": true
   },
   "outputs": [
    {
     "data": {
      "text/plain": [
       "[{'name': 'Restaurante João Dourado',\n",
       "  'type': 'restaurant',\n",
       "  'lat': '-11.3037224',\n",
       "  'lon': '-41.8581656'},\n",
       " {'name': 'Bradesco',\n",
       "  'type': 'bank',\n",
       "  'lat': '-11.3029732',\n",
       "  'lon': '-41.8572450'},\n",
       " {'name': 'Farma MiX',\n",
       "  'type': 'pharmacy',\n",
       "  'lat': '-11.3031678',\n",
       "  'lon': '-41.8584142'},\n",
       " {'name': 'ESAGRI',\n",
       "  'type': 'school',\n",
       "  'lat': '-11.3108168',\n",
       "  'lon': '-41.8300901'},\n",
       " {'name': 'UNEB - Universidade do Estado da Bahia',\n",
       "  'type': 'school',\n",
       "  'lat': '-11.2980975',\n",
       "  'lon': '-41.8305670'},\n",
       " {'name': 'DIREC',\n",
       "  'type': 'school',\n",
       "  'lat': '-11.3036733',\n",
       "  'lon': '-41.8560591'},\n",
       " {'name': 'Caixa Econômica Federal',\n",
       "  'type': 'bank',\n",
       "  'lat': '-11.3029000',\n",
       "  'lon': '-41.8556083'},\n",
       " {'name': 'Correios',\n",
       "  'type': 'post_office',\n",
       "  'lat': '-11.3083862',\n",
       "  'lon': '-41.8569280'},\n",
       " {'name': 'UFBA',\n",
       "  'type': 'school',\n",
       "  'lat': '-11.3073605',\n",
       "  'lon': '-41.8571962'},\n",
       " {'name': 'Escola Rui Barbosa',\n",
       "  'type': 'school',\n",
       "  'lat': '-11.3020385',\n",
       "  'lon': '-41.8502219'},\n",
       " {'name': 'Colegio Odete Nunes Dourado',\n",
       "  'type': 'school',\n",
       "  'lat': '-11.3059348',\n",
       "  'lon': '-41.8662628'},\n",
       " {'name': 'Restaurante Prakasa Dia e Noite',\n",
       "  'type': 'restaurant',\n",
       "  'lat': '-11.3021755',\n",
       "  'lon': '-41.8480638'},\n",
       " {'name': 'Câmara Municipal de Irecê',\n",
       "  'type': 'townhall',\n",
       "  'lat': '-11.3113680',\n",
       "  'lon': '-41.8591695'},\n",
       " {'name': 'Banco do Nordeste',\n",
       "  'type': 'bank',\n",
       "  'lat': '-11.3035107',\n",
       "  'lon': '-41.8578733'}]"
      ]
     },
     "execution_count": 5,
     "metadata": {},
     "output_type": "execute_result"
    }
   ],
   "source": [
    "city_info"
   ]
  },
  {
   "cell_type": "code",
   "execution_count": 26,
   "id": "7d9f0f26",
   "metadata": {},
   "outputs": [
    {
     "name": "stdout",
     "output_type": "stream",
     "text": [
      "Starting SAX Parser...\n",
      "--- 0.15032696723937988 seconds ---\n"
     ]
    }
   ],
   "source": [
    "class Listener(xml.sax.ContentHandler):\n",
    "  \n",
    "  def __init__(self):    \n",
    "    self.city_info = []\n",
    "    self.name = ''\n",
    "    self.type = ''\n",
    "    self.lat = ''\n",
    "    self.lon = ''\n",
    "    self.serialize = False\n",
    "    self.isAmenity = False\n",
    "\n",
    "  def startElement(self, tag, attributes):        \n",
    "    if tag == 'node':\n",
    "      if 'lat' in attributes.getNames() and 'lon' in attributes.getNames():\n",
    "        self.lat = attributes.get('lat')\n",
    "        self.lon = attributes.get('lon')\n",
    "    if tag == 'tag':\n",
    "      if 'k' in attributes.getNames():\n",
    "        if attributes.get('k') == 'amenity':\n",
    "          self.type = attributes.get('v')\n",
    "          self.isAmenity = True\n",
    "        if attributes.get('k') == 'name' and self.isAmenity:\n",
    "          self.name = attributes.get('v')\n",
    "          self.serialize = True\n",
    "          \n",
    "  def restart(self):\n",
    "    self.name = ''\n",
    "    self.type = ''\n",
    "    self.lat = ''\n",
    "    self.lon = ''\n",
    "    self.serialize = False\n",
    "    self.isAmenity = False\n",
    "        \n",
    "  def endElement(self, tag):    \n",
    "    if tag =='node':\n",
    "      if len(self.lat) > 0 and len(self.lon) > 0:\n",
    "        if self.serialize == True:\n",
    "          self.city_info.append({'name' : self.name, 'type': self.type, 'lat': self.lat, 'lon': self.lon})\n",
    "      self.restart()      \n",
    "      \n",
    "parser =  xml.sax.make_parser()\n",
    "\n",
    "Handler = Listener()\n",
    "parser.setContentHandler(Handler)\n",
    "print(\"Starting SAX Parser...\")\n",
    "\n",
    "start_time = time.time()\n",
    "parser.parse('irece.osm')\n",
    "end_time = time.time()\n",
    "elapsed_sax_parser = (end_time - start_time)\n",
    "print(\"--- %s seconds ---\" % elapsed_sax_parser)\n",
    "#difference = elapsed_sax_parser / elapsed_dom_parser\n",
    "#print(difference)\n",
    "#print(Handler.city_info)"
   ]
  },
  {
   "cell_type": "code",
   "execution_count": 7,
   "id": "8b23513d",
   "metadata": {},
   "outputs": [
    {
     "data": {
      "text/plain": [
       "True"
      ]
     },
     "execution_count": 7,
     "metadata": {},
     "output_type": "execute_result"
    }
   ],
   "source": [
    "Handler.city_info == city_info"
   ]
  },
  {
   "cell_type": "code",
   "execution_count": 8,
   "id": "f4b9f66d",
   "metadata": {},
   "outputs": [
    {
     "data": {
      "text/plain": [
       "14"
      ]
     },
     "execution_count": 8,
     "metadata": {},
     "output_type": "execute_result"
    }
   ],
   "source": [
    "len(city_info)"
   ]
  },
  {
   "cell_type": "code",
   "execution_count": 9,
   "id": "e8a1e914",
   "metadata": {},
   "outputs": [
    {
     "data": {
      "text/plain": [
       "{'name': 'Restaurante João Dourado',\n",
       " 'type': 'restaurant',\n",
       " 'lat': '-11.3037224',\n",
       " 'lon': '-41.8581656'}"
      ]
     },
     "execution_count": 9,
     "metadata": {},
     "output_type": "execute_result"
    }
   ],
   "source": [
    "city_info[0]"
   ]
  },
  {
   "cell_type": "code",
   "execution_count": 11,
   "id": "e74eedfc",
   "metadata": {},
   "outputs": [],
   "source": [
    "city = city_info[0]"
   ]
  },
  {
   "cell_type": "code",
   "execution_count": 12,
   "id": "01484b0c",
   "metadata": {},
   "outputs": [
    {
     "data": {
      "text/plain": [
       "{'name': 'Restaurante João Dourado',\n",
       " 'type': 'restaurant',\n",
       " 'lat': '-11.3037224',\n",
       " 'lon': '-41.8581656'}"
      ]
     },
     "execution_count": 12,
     "metadata": {},
     "output_type": "execute_result"
    }
   ],
   "source": [
    "city"
   ]
  },
  {
   "cell_type": "code",
   "execution_count": 20,
   "id": "de5d2475",
   "metadata": {
    "scrolled": true
   },
   "outputs": [
    {
     "data": {
      "text/plain": [
       "{'type': 'FeatureCollection',\n",
       " 'features': [{'type': 'Feature',\n",
       "   'geometry': {'type': 'Point', 'coordinates': [-41.8581656, -11.3037224]},\n",
       "   'properties': {'nome': 'Restaurante João Dourado', 'tipo': 'restaurant'}},\n",
       "  {'type': 'Feature',\n",
       "   'geometry': {'type': 'Point', 'coordinates': [-41.857245, -11.3029732]},\n",
       "   'properties': {'nome': 'Bradesco', 'tipo': 'bank'}},\n",
       "  {'type': 'Feature',\n",
       "   'geometry': {'type': 'Point', 'coordinates': [-41.8584142, -11.3031678]},\n",
       "   'properties': {'nome': 'Farma MiX', 'tipo': 'pharmacy'}},\n",
       "  {'type': 'Feature',\n",
       "   'geometry': {'type': 'Point', 'coordinates': [-41.8300901, -11.3108168]},\n",
       "   'properties': {'nome': 'ESAGRI', 'tipo': 'school'}},\n",
       "  {'type': 'Feature',\n",
       "   'geometry': {'type': 'Point', 'coordinates': [-41.830567, -11.2980975]},\n",
       "   'properties': {'nome': 'UNEB - Universidade do Estado da Bahia',\n",
       "    'tipo': 'school'}},\n",
       "  {'type': 'Feature',\n",
       "   'geometry': {'type': 'Point', 'coordinates': [-41.8560591, -11.3036733]},\n",
       "   'properties': {'nome': 'DIREC', 'tipo': 'school'}},\n",
       "  {'type': 'Feature',\n",
       "   'geometry': {'type': 'Point', 'coordinates': [-41.8556083, -11.3029]},\n",
       "   'properties': {'nome': 'Caixa Econômica Federal', 'tipo': 'bank'}},\n",
       "  {'type': 'Feature',\n",
       "   'geometry': {'type': 'Point', 'coordinates': [-41.856928, -11.3083862]},\n",
       "   'properties': {'nome': 'Correios', 'tipo': 'post_office'}},\n",
       "  {'type': 'Feature',\n",
       "   'geometry': {'type': 'Point', 'coordinates': [-41.8571962, -11.3073605]},\n",
       "   'properties': {'nome': 'UFBA', 'tipo': 'school'}},\n",
       "  {'type': 'Feature',\n",
       "   'geometry': {'type': 'Point', 'coordinates': [-41.8502219, -11.3020385]},\n",
       "   'properties': {'nome': 'Escola Rui Barbosa', 'tipo': 'school'}},\n",
       "  {'type': 'Feature',\n",
       "   'geometry': {'type': 'Point', 'coordinates': [-41.8662628, -11.3059348]},\n",
       "   'properties': {'nome': 'Colegio Odete Nunes Dourado', 'tipo': 'school'}},\n",
       "  {'type': 'Feature',\n",
       "   'geometry': {'type': 'Point', 'coordinates': [-41.8480638, -11.3021755]},\n",
       "   'properties': {'nome': 'Restaurante Prakasa Dia e Noite',\n",
       "    'tipo': 'restaurant'}},\n",
       "  {'type': 'Feature',\n",
       "   'geometry': {'type': 'Point', 'coordinates': [-41.8591695, -11.311368]},\n",
       "   'properties': {'nome': 'Câmara Municipal de Irecê', 'tipo': 'townhall'}},\n",
       "  {'type': 'Feature',\n",
       "   'geometry': {'type': 'Point', 'coordinates': [-41.8578733, -11.3035107]},\n",
       "   'properties': {'nome': 'Banco do Nordeste', 'tipo': 'bank'}}]}"
      ]
     },
     "execution_count": 20,
     "metadata": {},
     "output_type": "execute_result"
    }
   ],
   "source": [
    "geojson = {}\n",
    "geojson['type'] = 'FeatureCollection'\n",
    "geojson['features'] = []\n",
    "for city in city_info:\n",
    "  obj = {}\n",
    "  obj['type'] = 'Feature'\n",
    "  obj['geometry'] = {}\n",
    "  obj['geometry']['type'] = 'Point'\n",
    "  obj['geometry']['coordinates'] = []\n",
    "  obj['geometry']['coordinates'].append(float(city['lon']))\n",
    "  obj['geometry']['coordinates'].append(float(city['lat']))\n",
    "  obj['properties'] = {}\n",
    "  obj['properties']['nome'] = city['name']\n",
    "  obj['properties']['tipo'] = city['type']\n",
    "  geojson['features'].append(obj)\n",
    "geojson"
   ]
  },
  {
   "cell_type": "code",
   "execution_count": 22,
   "id": "de4cee57",
   "metadata": {
    "scrolled": true
   },
   "outputs": [],
   "source": [
    "with open('teste.json', \"w+\") as outfile:\n",
    "  json.dump(geojson, outfile)\n"
   ]
  },
  {
   "cell_type": "code",
   "execution_count": null,
   "id": "2c93e007",
   "metadata": {},
   "outputs": [],
   "source": []
  }
 ],
 "metadata": {
  "kernelspec": {
   "display_name": "Python 3 (ipykernel)",
   "language": "python",
   "name": "python3"
  },
  "language_info": {
   "codemirror_mode": {
    "name": "ipython",
    "version": 3
   },
   "file_extension": ".py",
   "mimetype": "text/x-python",
   "name": "python",
   "nbconvert_exporter": "python",
   "pygments_lexer": "ipython3",
   "version": "3.7.13"
  }
 },
 "nbformat": 4,
 "nbformat_minor": 5
}

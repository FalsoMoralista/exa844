{
 "cells": [
  {
   "cell_type": "code",
   "execution_count": 4,
   "id": "cfce472d",
   "metadata": {},
   "outputs": [],
   "source": [
    "import os\n",
    "import logging\n",
    "from urllib.parse import urljoin\n",
    "import requests\n",
    "from bs4 import BeautifulSoup\n",
    "import json"
   ]
  },
  {
   "cell_type": "code",
   "execution_count": 72,
   "id": "a213f385",
   "metadata": {},
   "outputs": [],
   "source": [
    "links = ['https://exa844-a4eb.vercel.app/',\n",
    " 'https://exa-844-eight.vercel.app/',\n",
    "'https://exa844-yotl.vercel.app/',\n",
    "'https://antonio-raian.github.io/exa844/atividade1/',\n",
    " 'https://exa-844-a62ds125v-antonyaraujo.vercel.app/',\n",
    "'https://exa-844-ten.vercel.app/Atividade1',\n",
    " 'https://exa-844-7teieiwsj-biancasantana1.vercel.app/Atividade_1',\n",
    " 'https://exa844-esdras.vercel.app/atividade1',\n",
    "'https://exa844-seven.vercel.app/atividade1',\n",
    " 'https://exa-844-i32kyua3l-gabcarvas.vercel.app/',\n",
    " 'https://exa844-chi.vercel.app/',\n",
    "'https://exa844-kevin.vercel.app/atividade1/index.html',\n",
    " 'https://laerciosr.github.io/exa844/atividade1/',\n",
    " 'https://falsomoralista.github.io/exa844/atividade1/',\n",
    "'https://exa844-mariana.vercel.app/atividade1',\n",
    " 'https://exa-844-mu.vercel.app/',\n",
    " 'https://exa-844-orcin.vercel.app/Atividade1',\n",
    "'https://ozenilsoncruz.github.io/exa844/atividade1/',\n",
    " 'https://silas-silva.github.io/EXA844/Atividade01/',\n",
    " 'https://exa844-virid.vercel.app/atividade1',\n",
    "'https://programming-for-networks.vercel.app/activities/atividade1/', 'https://exa844-theta.vercel.app/',\n",
    " 'https://exa844-weslei-santos.vercel.app/','https://williamosoares.github.io/exa844/atividade1/index']"
   ]
  },
  {
   "cell_type": "code",
   "execution_count": 73,
   "id": "4d543467",
   "metadata": {},
   "outputs": [
    {
     "name": "stderr",
     "output_type": "stream",
     "text": [
      "2023-03-09 14:07:35,756 INFO:Crawling: https://exa844-a4eb.vercel.app/\n",
      "2023-03-09 14:07:35,968 INFO:Crawling: https://exa-844-eight.vercel.app/\n",
      "2023-03-09 14:07:36,183 INFO:Crawling: https://exa844-yotl.vercel.app/\n",
      "2023-03-09 14:07:36,395 INFO:Crawling: https://antonio-raian.github.io/exa844/atividade1/\n",
      "2023-03-09 14:07:36,488 INFO:Crawling: https://exa-844-a62ds125v-antonyaraujo.vercel.app/\n",
      "2023-03-09 14:07:36,705 INFO:Crawling: https://exa-844-ten.vercel.app/Atividade1\n",
      "2023-03-09 14:07:36,917 INFO:Crawling: https://exa-844-7teieiwsj-biancasantana1.vercel.app/Atividade_1\n",
      "2023-03-09 14:07:37,137 INFO:Crawling: https://exa844-esdras.vercel.app/atividade1\n",
      "2023-03-09 14:07:37,350 INFO:Crawling: https://exa844-seven.vercel.app/atividade1\n",
      "2023-03-09 14:07:37,566 INFO:Crawling: https://exa-844-i32kyua3l-gabcarvas.vercel.app/\n",
      "2023-03-09 14:07:37,781 INFO:Crawling: https://exa844-chi.vercel.app/\n",
      "2023-03-09 14:07:37,996 INFO:Crawling: https://exa844-kevin.vercel.app/atividade1/index.html\n",
      "2023-03-09 14:07:38,247 INFO:Crawling: https://laerciosr.github.io/exa844/atividade1/\n",
      "2023-03-09 14:07:38,337 INFO:Crawling: https://falsomoralista.github.io/exa844/atividade1/\n",
      "2023-03-09 14:07:38,430 INFO:Crawling: https://exa844-mariana.vercel.app/atividade1\n",
      "2023-03-09 14:07:38,646 INFO:Crawling: https://exa-844-mu.vercel.app/\n",
      "2023-03-09 14:07:38,873 INFO:Crawling: https://exa-844-orcin.vercel.app/Atividade1\n",
      "2023-03-09 14:07:39,089 INFO:Crawling: https://ozenilsoncruz.github.io/exa844/atividade1/\n",
      "2023-03-09 14:07:39,183 INFO:Crawling: https://silas-silva.github.io/EXA844/Atividade01/\n",
      "2023-03-09 14:07:39,279 INFO:Crawling: https://exa844-virid.vercel.app/atividade1\n",
      "2023-03-09 14:07:39,492 INFO:Crawling: https://programming-for-networks.vercel.app/activities/atividade1/\n",
      "2023-03-09 14:07:39,710 INFO:Crawling: https://exa844-theta.vercel.app/\n",
      "2023-03-09 14:07:39,921 INFO:Crawling: https://exa844-weslei-santos.vercel.app/\n",
      "2023-03-09 14:07:40,132 INFO:Crawling: https://williamosoares.github.io/exa844/atividade1/index\n"
     ]
    }
   ],
   "source": [
    "logging.basicConfig(\n",
    "    format='%(asctime)s %(levelname)s:%(message)s',\n",
    "    level=logging.INFO)\n",
    "\n",
    "class Crawler:\n",
    "    def __init__(self, urls=[]):\n",
    "        self.headers = {\n",
    "          'User-Agent': 'Mozilla/5.0 (Macintosh; Intel Mac OS X 10.15; rv:109.0) Gecko/20100101 Firefox/109.0',\n",
    "        }\n",
    "        self.info = []\n",
    "        self.current_url = ''\n",
    "        self.visited_urls = []\n",
    "        self.urls_to_visit = urls\n",
    "        self.current_year = 0\n",
    "        self.music_list = []\n",
    "        self.year_list = []\n",
    "        self.top_music_by_year = []\n",
    "#        self.add_url_to_visit()\n",
    "\n",
    "    def add_url_to_visit(self):\n",
    "        url = self.urls_to_visit.pop(0)\n",
    "        for i in range(2021,2023):\n",
    "          new_url = url + str(i) + '/'\n",
    "          self.year_list.append(i)\n",
    "          self.urls_to_visit.append(new_url)            \n",
    "        self.current_year = self.year_list.pop(0)\n",
    "        \n",
    "    def download_url(self, url):\n",
    "        return requests.get(url, headers=self.headers)\n",
    "\n",
    "    def get_linked_urls(self, url, html):\n",
    "        soup = BeautifulSoup(html, 'html.parser')\n",
    "        for link in soup.find_all('a'):\n",
    "            path = link.get('href')\n",
    "            if path and path.startswith('/'):\n",
    "                path = urljoin(url, path)\n",
    "            yield path\n",
    "\n",
    "    def parseImage(self, html):\n",
    "      crawled_info = {'page_title': html.title.string}\n",
    "      image_links = []\n",
    "      for img in html.find_all('img'):\n",
    "        link = img.get('src')\n",
    "        if not link.startswith('https://'):\n",
    "          link = self.current_url + link\n",
    "        image_links.append(link)\n",
    "      crawled_info['links'] = image_links\n",
    "      return crawled_info\n",
    "                        \n",
    "    def crawl(self, url):      \n",
    "        html = self.download_url(url)\n",
    "        soup = BeautifulSoup(html.text, 'html.parser')\n",
    "        parsed_info = self.parseImage(soup)\n",
    "        return parsed_info\n",
    "\n",
    "    def run(self):\n",
    "        while self.urls_to_visit:\n",
    "            url = self.urls_to_visit.pop(0)\n",
    "            self.current_url = url\n",
    "            logging.info(f'Crawling: {url}')\n",
    "            try:\n",
    "                self.info.append(self.crawl(url))\n",
    "            except Exception:\n",
    "                logging.exception(f'Failed to crawl: {url}')\n",
    "            finally:\n",
    "                self.visited_urls.append(url)\n",
    "        return self.info\n",
    "if __name__ == '__main__':\n",
    "    info = Crawler(urls=links).run()\n",
    "    html = '<div align=\"center\"> <br>'\n",
    "    for data in info:\n",
    "      link = data['links']\n",
    "      if len(link) > 0:\n",
    "        html = html + '<h3> ' + data['page_title'] + ' <h3> <br>'\n",
    "        html = html + '<img ' +'src=' +'\"'+ data['links'][0] +'\"'+ 'height=\"256\" width=\"256\"> <br>'\n",
    "    \n",
    "    html\n",
    "      \n"
   ]
  },
  {
   "cell_type": "code",
   "execution_count": 74,
   "id": "32ee9a90",
   "metadata": {},
   "outputs": [
    {
     "data": {
      "text/plain": [
       "'<div align=\"center\"> <br>\\n<h3> Amanda Silva Santos <h3> <br>\\n<img src=\"https://exa-844-eight.vercel.app/atividade1/image.jpg\"height=\"256\" width=\"256\"> <br>\\n<h3> Anderson Lima dos Santos <h3> <br>\\n<img src=\"https://exa844-yotl.vercel.app/timas.jpg\"height=\"256\" width=\"256\"> <br>\\n<h3> Atividade 1 - Antonio Mendes <h3> <br>\\n<img src=\"https://antonio-raian.github.io/exa844/atividade1/img/linkedin.png\"height=\"256\" width=\"256\"> <br>\\n<h3> EXA844 - Atividade 1 <h3> <br>\\n<img src=\"https://media.tenor.com/2Qrxb60EYFoAAAAC/please-no-michael-scott.gif\"height=\"256\" width=\"256\"> <br>\\n<h3> \\n  Aurélio Rocha Barreto\\n <h3> <br>\\n<img src=\"https://exa-844-ten.vercel.app/Atividade1Atividade1/cacto.jpg\"height=\"256\" width=\"256\"> <br>\\n<h3> Esdras Abreu <h3> <br>\\n<img src=\"https://exa844-esdras.vercel.app/atividade1esdras.jpg\"height=\"256\" width=\"256\"> <br>\\n<h3> Estefane Carmo de Souza <h3> <br>\\n<img src=\"https://exa844-seven.vercel.app/atividade1atividade1/bolo.jpg\"height=\"256\" width=\"256\"> <br>\\n<h3> Ian Zaque Santos <h3> <br>\\n<img src=\"https://exa844-chi.vercel.app/gojira.jpg\"height=\"256\" width=\"256\"> <br>\\n<h3> Atividade 01 - Kevin Cerqueira <h3> <br>\\n<img src=\"https://exa844-kevin.vercel.app/atividade1/index.htmlkevin.jpeg\"height=\"256\" width=\"256\"> <br>\\n<h3> Luciano <h3> <br>\\n<img src=\"https://falsomoralista.github.io/exa844/atividade1/cassiopeia_a.jpg\"height=\"256\" width=\"256\"> <br>\\n<h3> Atividade 1 - Mariana Santos <h3> <br>\\n<img src=\"https://encrypted-tbn0.gstatic.com/images?q=tbn:ANd9GcRfu1mi6LAfuv1HSVFYUtOVgBsIB5f96Ui_Xw&usqp=CAU\"height=\"256\" width=\"256\"> <br>\\n<h3> Mateus Fernandes Santos <h3> <br>\\n<img src=\"https://wesinalves.github.io/assests/img/posts/computerengineer.png\"height=\"256\" width=\"256\"> <br>\\n<h3> Messias Silva <h3> <br>\\n<img src=\"https://interligados.com.br/wp-content/uploads/2020/02/ilustracao-fria-tilt-roteador-wi-fi-rede-residencial-de-internet-rede-cabeada-ethernet-1576251591940_v2_900x506.png\"height=\"256\" width=\"256\"> <br>\\n<h3> Ozenilson Cruz <h3> <br>\\n<img src=\"https://ozenilsoncruz.github.io/exa844/atividade1/paisagem.jpg\"height=\"256\" width=\"256\"> <br>\\n<h3> Silas Silva <h3> <br>\\n<img src=\"https://avatars.githubusercontent.com/u/66216800?s=400&u=20d6035868cc80b661bb5b1e34899f7b6369a0e3&v=4\"height=\"256\" width=\"256\"> <br>\\n<h3>  Thiago Cardozo de Jesus <h3> <br>\\n<img src=\"https://classic.exame.com/wp-content/uploads/2022/09/WhatsApp-Image-2022-09-25-at-10.46.45.jpeg?quality=70&strip=info&w=678\"height=\"256\" width=\"256\"> <br>\\n<h3> Vitor V. Andrade <h3> <br>\\n<img src=\"https://exa844-theta.vercel.app/Morrao.jpeg\"height=\"256\" width=\"256\"> <br>\\n<h3> Weslei Santos Pinheiro <h3> <br>\\n<img src=\"https://exa844-weslei-santos.vercel.app/Morrao.jpeg\"height=\"256\" width=\"256\"> <br>\\n<h3>  WILLIAM  <h3> <br>\\n<img src=\"https://upload.wikimedia.org/wikipedia/commons/thumb/2/2e/Flamengo_braz_logo.svg/640px-Flamengo_braz_logo.svg.png\"height=\"256\" width=\"256\"> <br>\\n'"
      ]
     },
     "execution_count": 74,
     "metadata": {},
     "output_type": "execute_result"
    }
   ],
   "source": [
    "html"
   ]
  },
  {
   "cell_type": "code",
   "execution_count": 63,
   "id": "d7ff27f7",
   "metadata": {},
   "outputs": [
    {
     "data": {
      "text/plain": [
       "[]"
      ]
     },
     "execution_count": 63,
     "metadata": {},
     "output_type": "execute_result"
    }
   ],
   "source": [
    "info"
   ]
  },
  {
   "cell_type": "code",
   "execution_count": null,
   "id": "ba23b39b",
   "metadata": {},
   "outputs": [],
   "source": []
  }
 ],
 "metadata": {
  "kernelspec": {
   "display_name": "Python 3 (ipykernel)",
   "language": "python",
   "name": "python3"
  },
  "language_info": {
   "codemirror_mode": {
    "name": "ipython",
    "version": 3
   },
   "file_extension": ".py",
   "mimetype": "text/x-python",
   "name": "python",
   "nbconvert_exporter": "python",
   "pygments_lexer": "ipython3",
   "version": "3.7.13"
  }
 },
 "nbformat": 4,
 "nbformat_minor": 5
}

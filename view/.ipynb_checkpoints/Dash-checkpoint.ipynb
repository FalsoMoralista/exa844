{
 "cells": [
  {
   "cell_type": "code",
   "execution_count": 122,
   "id": "46866d22",
   "metadata": {},
   "outputs": [
    {
     "name": "stdout",
     "output_type": "stream",
     "text": [
      "Dash is running on http://127.0.0.1:8050/\n",
      "\n",
      " * Serving Flask app '__main__'\n",
      " * Debug mode: off\n"
     ]
    }
   ],
   "source": [
    "from dash import Dash, html, dcc\n",
    "import pandas as pd\n",
    "import plotly.express as px\n",
    "import numpy as np\n",
    "app = Dash(__name__)\n",
    "\n",
    "# App layout\n",
    "app.layout = html.Div([\n",
    "    html.Div(children='My First App with Data and a Graph'),\n",
    "    #dash_table.DataTable(data=df.to_dict('records'), page_size=10),\n",
    "    dcc.Graph(figure=px.histogram(data['content'], x='release_date', y='lexical_complexity_score', histfunc=None))\n",
    "])\n",
    "if __name__ == '__main__':\n",
    "    app.run_server(debug=False)"
   ]
  },
  {
   "cell_type": "code",
   "execution_count": 39,
   "id": "9d6d3889",
   "metadata": {},
   "outputs": [],
   "source": [
    "import http.client\n",
    "import json\n",
    "\n",
    "conn = http.client.HTTPSConnection(\"get-songs-from-interval-xg7jaquagq-tl.a.run.app\")\n",
    "payload = json.dumps({\n",
    "  \"action\": \"get\",\n",
    "  \"resource\": \"songs_from_interval\",\n",
    "  \"min\": 1950,\n",
    "  \"max\": 1970\n",
    "})\n",
    "headers = {\n",
    "  'Content-Type': 'application/json'\n",
    "}\n",
    "conn.request(\"POST\", \"/?=null\", payload, headers)\n",
    "res = conn.getresponse()\n",
    "data = json.loads(res.read().decode(\"utf-8\"))\n",
    "transform_into_float = lambda k, v: float(v) if k == 'lexical_complexity_score' else v\n",
    "data['content'] = [{k : transform_into_float(k,v) for k, v in data.items()} for data in data['content']]"
   ]
  },
  {
   "cell_type": "code",
   "execution_count": 42,
   "id": "51096c06",
   "metadata": {},
   "outputs": [
    {
     "data": {
      "text/plain": [
       "[{'song_title': 'Não tem solução',\n",
       "  'artist': 'Dorival Caymmi',\n",
       "  'release_date': 1952,\n",
       "  'rank_position': 22,\n",
       "  'lexical_complexity_score': 0.6818182,\n",
       "  'mxm_dataset_ID': 'TRPDNEY128F1472E46'},\n",
       " {'song_title': 'Sebastiana',\n",
       "  'artist': 'Jackson do Pandeiro',\n",
       "  'release_date': 1953,\n",
       "  'rank_position': 58,\n",
       "  'lexical_complexity_score': 0.6666667,\n",
       "  'mxm_dataset_ID': 'TRJILUW128F92F8BFF'},\n",
       " {'song_title': 'Saudosa Maloca',\n",
       "  'artist': 'Demônios da Garoa',\n",
       "  'release_date': 1955,\n",
       "  'rank_position': 2,\n",
       "  'lexical_complexity_score': 0.5151515,\n",
       "  'mxm_dataset_ID': 'TRCIOEX12903CB102E'},\n",
       " {'song_title': 'Saudade da Bahia',\n",
       "  'artist': 'Dorival Caymmi',\n",
       "  'release_date': 1957,\n",
       "  'rank_position': 12,\n",
       "  'lexical_complexity_score': 0.53333336,\n",
       "  'mxm_dataset_ID': 'TRUATRA128F1475223'},\n",
       " {'song_title': 'Franqueza',\n",
       "  'artist': 'Maysa',\n",
       "  'release_date': 1957,\n",
       "  'rank_position': 18,\n",
       "  'lexical_complexity_score': 0.7105263,\n",
       "  'mxm_dataset_ID': 'TRPYNGY12903CE2EA7'},\n",
       " {'song_title': 'Estrada do sol',\n",
       "  'artist': 'Agostinho dos Santos',\n",
       "  'release_date': 1958,\n",
       "  'rank_position': 63,\n",
       "  'lexical_complexity_score': 0.56666666,\n",
       "  'mxm_dataset_ID': 'TRITTLF12903CB6892'},\n",
       " {'song_title': 'A Felicidade',\n",
       "  'artist': 'Agostinho dos Santos',\n",
       "  'release_date': 1959,\n",
       "  'rank_position': 5,\n",
       "  'lexical_complexity_score': 0.59090906,\n",
       "  'mxm_dataset_ID': 'TRYTJCU128F4233C0F'},\n",
       " {'song_title': 'Ela Disse-me Assim',\n",
       "  'artist': 'Jamelão',\n",
       "  'release_date': 1959,\n",
       "  'rank_position': 47,\n",
       "  'lexical_complexity_score': 0.71875,\n",
       "  'mxm_dataset_ID': 'TRVFPFO128F426E6D9'},\n",
       " {'song_title': 'Bim Bom',\n",
       "  'artist': 'João Gilberto',\n",
       "  'release_date': 1959,\n",
       "  'rank_position': 64,\n",
       "  'lexical_complexity_score': 0.4,\n",
       "  'mxm_dataset_ID': 'TREGJMK12903D0077A'},\n",
       " {'song_title': 'Se acaso você chegasse',\n",
       "  'artist': 'Elza Soares',\n",
       "  'release_date': 1960,\n",
       "  'rank_position': 12,\n",
       "  'lexical_complexity_score': 0.75,\n",
       "  'mxm_dataset_ID': 'TRRMHZH128F42714A6'},\n",
       " {'song_title': 'Cabelos brancos',\n",
       "  'artist': 'Sílvio Caldas',\n",
       "  'release_date': 1962,\n",
       "  'rank_position': 63,\n",
       "  'lexical_complexity_score': 0.71875,\n",
       "  'mxm_dataset_ID': 'TRDPBLV12903CF50B5'},\n",
       " {'song_title': 'Una lacrima sul viso',\n",
       "  'artist': 'Bobby Solo',\n",
       "  'release_date': 1964,\n",
       "  'rank_position': 19,\n",
       "  'lexical_complexity_score': 0.60784316,\n",
       "  'mxm_dataset_ID': 'TRGECZO12903CF03C6'},\n",
       " {'song_title': 'A Festa do Bolinha',\n",
       "  'artist': 'Trio Esperança',\n",
       "  'release_date': 1965,\n",
       "  'rank_position': 13,\n",
       "  'lexical_complexity_score': 0.6666667,\n",
       "  'mxm_dataset_ID': 'TRNCDUP128F147A796'},\n",
       " {'song_title': 'Querida',\n",
       "  'artist': 'Jerry Adriani',\n",
       "  'release_date': 1965,\n",
       "  'rank_position': 17,\n",
       "  'lexical_complexity_score': 0.6944444,\n",
       "  'mxm_dataset_ID': 'TRHNWLC12903CA5DBD'},\n",
       " {'song_title': 'Pensando Nela',\n",
       "  'artist': 'Golden Boys',\n",
       "  'release_date': 1965,\n",
       "  'rank_position': 42,\n",
       "  'lexical_complexity_score': 0.8181818,\n",
       "  'mxm_dataset_ID': 'TRHWRZP128F4267EF7'},\n",
       " {'song_title': 'Festa de arromba',\n",
       "  'artist': 'Erasmo Carlos',\n",
       "  'release_date': 1965,\n",
       "  'rank_position': 51,\n",
       "  'lexical_complexity_score': 0.31958762,\n",
       "  'mxm_dataset_ID': 'TREPLKP128F92EBEEE'},\n",
       " {'song_title': 'Mulata assanhada',\n",
       "  'artist': 'Elza Soares',\n",
       "  'release_date': 1965,\n",
       "  'rank_position': 89,\n",
       "  'lexical_complexity_score': 0.71428573,\n",
       "  'mxm_dataset_ID': 'TRPMNXC128F1486FF0'},\n",
       " {'song_title': 'A Volta',\n",
       "  'artist': 'Os Vips',\n",
       "  'release_date': 1966,\n",
       "  'rank_position': 10,\n",
       "  'lexical_complexity_score': 0.6111111,\n",
       "  'mxm_dataset_ID': 'TRTDFFV12903CA5DE0'},\n",
       " {'song_title': 'Io ti darò di più',\n",
       "  'artist': 'Ornella Vanoni',\n",
       "  'release_date': 1966,\n",
       "  'rank_position': 29,\n",
       "  'lexical_complexity_score': 0.33093524,\n",
       "  'mxm_dataset_ID': 'TRPZOYL128E0787636'},\n",
       " {'song_title': 'O Bom',\n",
       "  'artist': 'Eduardo Araújo',\n",
       "  'release_date': 1966,\n",
       "  'rank_position': 34,\n",
       "  'lexical_complexity_score': 0.29508197,\n",
       "  'mxm_dataset_ID': 'TRRXOGX12903CA5DEE'},\n",
       " {'song_title': 'Upa Neguinho',\n",
       "  'artist': 'Elis Regina',\n",
       "  'release_date': 1966,\n",
       "  'rank_position': 44,\n",
       "  'lexical_complexity_score': 0.5,\n",
       "  'mxm_dataset_ID': 'TRXPCSZ12903CC6E63'},\n",
       " {'song_title': 'Alegria, Alegria',\n",
       "  'artist': 'Caetano Veloso',\n",
       "  'release_date': 1967,\n",
       "  'rank_position': 30,\n",
       "  'lexical_complexity_score': 0.47619048,\n",
       "  'mxm_dataset_ID': 'TRUDATD128F932B902'},\n",
       " {'song_title': 'Tributo a Martin Luther KIng',\n",
       "  'artist': 'Wilson Simonal',\n",
       "  'release_date': 1967,\n",
       "  'rank_position': 85,\n",
       "  'lexical_complexity_score': 0.6896552,\n",
       "  'mxm_dataset_ID': 'TRPGCRW128F146C19A'},\n",
       " {'song_title': 'Voce Passa Eu Acho Graça',\n",
       "  'artist': 'Clara Nunes',\n",
       "  'release_date': 1968,\n",
       "  'rank_position': 66,\n",
       "  'lexical_complexity_score': 0.4,\n",
       "  'mxm_dataset_ID': 'TRXQGHU128F9306487'},\n",
       " {'song_title': 'Aquele abraço',\n",
       "  'artist': 'Gilberto Gil',\n",
       "  'release_date': 1969,\n",
       "  'rank_position': 2,\n",
       "  'lexical_complexity_score': 0.35555556,\n",
       "  'mxm_dataset_ID': 'TRXUJRE128F4258928'},\n",
       " {'song_title': 'Não identificado',\n",
       "  'artist': 'Gal Costa',\n",
       "  'release_date': 1969,\n",
       "  'rank_position': 23,\n",
       "  'lexical_complexity_score': 0.38636363,\n",
       "  'mxm_dataset_ID': 'TRGWZQP128F149921C'},\n",
       " {'song_title': 'Foi Um Rio Que Passou Em Minha Vida',\n",
       "  'artist': 'Paulinho da Viola',\n",
       "  'release_date': 1970,\n",
       "  'rank_position': 1,\n",
       "  'lexical_complexity_score': 0.5441176,\n",
       "  'mxm_dataset_ID': 'TRNPMOM128F4269725'},\n",
       " {'song_title': 'Jesus Cristo',\n",
       "  'artist': 'Roberto Carlos',\n",
       "  'release_date': 1970,\n",
       "  'rank_position': 3,\n",
       "  'lexical_complexity_score': 0.2735632,\n",
       "  'mxm_dataset_ID': 'TRYMXXD128F4289065'},\n",
       " {'song_title': 'Para Lennon e McCartney',\n",
       "  'artist': 'Milton Nascimento',\n",
       "  'release_date': 1970,\n",
       "  'rank_position': 42,\n",
       "  'lexical_complexity_score': 0.31914893,\n",
       "  'mxm_dataset_ID': 'TRTXPTA128F42670D9'},\n",
       " {'song_title': 'Tortura de Amor',\n",
       "  'artist': 'Waldick Soriano',\n",
       "  'release_date': 1970,\n",
       "  'rank_position': 57,\n",
       "  'lexical_complexity_score': 0.55263156,\n",
       "  'mxm_dataset_ID': 'TRRVAKW128F9338B50'},\n",
       " {'song_title': 'Ê Baiana',\n",
       "  'artist': 'Clara Nunes',\n",
       "  'release_date': 1970,\n",
       "  'rank_position': 72,\n",
       "  'lexical_complexity_score': 0.33333334,\n",
       "  'mxm_dataset_ID': 'TRLBGOB128F147F48B'},\n",
       " {'song_title': 'Ando Meio Desligado',\n",
       "  'artist': 'Os Mutantes',\n",
       "  'release_date': 1970,\n",
       "  'rank_position': 75,\n",
       "  'lexical_complexity_score': 0.6666667,\n",
       "  'mxm_dataset_ID': 'TRGUJLP128F14715D5'}]"
      ]
     },
     "execution_count": 42,
     "metadata": {},
     "output_type": "execute_result"
    }
   ],
   "source": [
    "data['content']"
   ]
  },
  {
   "cell_type": "code",
   "execution_count": 2,
   "id": "e8603bce",
   "metadata": {},
   "outputs": [],
   "source": [
    "#import functions_framework\n",
    "import pymysql\n",
    "import json\n",
    "\n",
    "def filter_songs_from_interval(conn, request_json):\n",
    "  with conn:\n",
    "    with conn.cursor() as cursor:          \n",
    "      min_val = request_json['min']\n",
    "      if request_json and 'max' in request_json:\n",
    "        max_val = request_json['max']\n",
    "        query = \"SELECT * FROM brazilian_songs WHERE release_date >= {} AND release_date <= {}\".format(min_val, max_val) \n",
    "      else:\n",
    "        query = \"SELECT * FROM brazilian_songs WHERE release_date >= {}\".format(min_val)\n",
    "      cursor.execute(query)\n",
    "      songs = cursor.fetchall()\n",
    "      song_list = []\n",
    "      for song in songs: \n",
    "        dic = {}\n",
    "        song_title = song['song_title']\n",
    "        artist = song['artist']\n",
    "        release_date = song['release_date']\n",
    "        rank_position = song['rank_position']\n",
    "        lexical_complexity_score = song['lexical_complexity_score']\n",
    "        mxm_dataset_ID = song['mxm_dataset_ID']\n",
    "        dic['song_title'] = song_title\n",
    "        dic['artist'] = artist\n",
    "        dic['release_date'] = release_date\n",
    "        dic['rank_position'] = rank_position\n",
    "        dic['lexical_complexity_score'] = lexical_complexity_score\n",
    "        dic['mxm_dataset_ID'] = mxm_dataset_ID\n",
    "        song_list.append(dic)\n",
    "    return song_list\n",
    "\n",
    "def connect_db():\n",
    "  conn = pymysql.connect(\n",
    "    host=\"34.95.238.213\",\n",
    "    port = 3306,\n",
    "    user=\"root\",\n",
    "    password=\"\", # to-do fill\n",
    "    db=\"brazilian_songs_dataset\",\n",
    "    cursorclass=pymysql.cursors.DictCursor          \n",
    "  )\n",
    "  return conn  \n",
    "\n",
    "#@functions_framework.http\n",
    "def get_avg_complexity_by_year_in_interval(request):\n",
    "  request_json = request#.get_json(silent=True) # UNDO!\n",
    "  # Copy Below\n",
    "  response = {}\n",
    "  if request_json and 'resource' in request_json and request_json['resource'] == \"get_average_lexical_complexity\":\n",
    "    if request_json and 'min' in request_json and 'timestamp' in request_json:\n",
    "      try:\n",
    "        conn = connect_db()\n",
    "        song_list = filter_songs_from_interval(conn, request_json)        \n",
    "        response['content'] = sorted(song_list, key=lambda x: x['release_date'])\n",
    "        # Convert lexical complexity measure from string into float\n",
    "        transform_into_float = lambda k, v: float(v) if k == 'lexical_complexity_score' else v          \n",
    "        response['content'] = [{k : transform_into_float(k,v) for k, v in data.items()} for data in response['content']]\n",
    "        timestamp = int(request_json['timestamp'])\n",
    "        if 'max' in request_json:\n",
    "          max_date = request_json['max']\n",
    "        else:\n",
    "          max_date = 2010\n",
    "        min_date = request_json['min']\n",
    "        dic = {}\n",
    "        for obj in response['content']:\n",
    "          if (obj['release_date'] - min_date) <= timestamp:\n",
    "            if (min_date + timestamp) > max_date:\n",
    "              key = \"{},{}\".format(min_date, max_date)\n",
    "            else:\n",
    "              key = \"{},{}\".format(min_date, min_date + timestamp)\n",
    "            if not key in dic:\n",
    "              dic[key] = [obj[\"lexical_complexity_score\"]]\n",
    "            else:\n",
    "              dic[key].append(obj[\"lexical_complexity_score\"])\n",
    "          else:\n",
    "            min_date = obj['release_date']\n",
    "            if (min_date + timestamp) > max_date:\n",
    "              key = \"{},{}\".format(min_date, max_date)\n",
    "            else:\n",
    "              key = \"{},{}\".format(min_date, min_date + timestamp)\n",
    "            dic[key] = [obj[\"lexical_complexity_score\"]]\n",
    "        # Transform dictionary into \n",
    "        dic = {k : np.mean(dic[k]) for k in dic.keys()}\n",
    "        response[\"content\"] = dic          \n",
    "      except Exception as e:\n",
    "        response[\"message\"] = 'Error: {}'.format(str(e))\n",
    "    else:\n",
    "      response[\"message\"] = \"Inexisting parameter!\"  \n",
    "  else:\n",
    "    response[\"message\"] = \"No other resources available yet...\"  \n",
    "  headers = {\n",
    "    \"Access-Control-Allow-Origin\": \"*\",\n",
    "    'Access-Control-Allow-Headers': 'Content-Type'\n",
    "  }\n",
    "  return (json.dumps(response['content'], ensure_ascii=False), 200, headers)"
   ]
  },
  {
   "cell_type": "code",
   "execution_count": 136,
   "id": "adc8eb5a",
   "metadata": {},
   "outputs": [],
   "source": [
    "request = {\n",
    "  \"resource\": \"get_average_lexical_complexity\",\n",
    "  \"min\": 1950,\n",
    "  \"max\": 1960,\n",
    "  \"timestamp\": 5\n",
    "}\n",
    "test = get_avg_complexity_by_year_in_interval(request)"
   ]
  },
  {
   "cell_type": "code",
   "execution_count": 137,
   "id": "7580fcb2",
   "metadata": {},
   "outputs": [
    {
     "data": {
      "text/plain": [
       "'{\"1950,1955\": 0.6212121333333332, \"1957,1960\": 0.6100264828571429}'"
      ]
     },
     "execution_count": 137,
     "metadata": {},
     "output_type": "execute_result"
    }
   ],
   "source": [
    "test[0]"
   ]
  },
  {
   "cell_type": "code",
   "execution_count": 131,
   "id": "578b2f58",
   "metadata": {},
   "outputs": [
    {
     "data": {
      "text/plain": [
       "'{\"1950,1955\": 0.6212121333333332, \"1957,1960\": 0.6100264828571429}'"
      ]
     },
     "execution_count": 131,
     "metadata": {},
     "output_type": "execute_result"
    }
   ],
   "source": [
    "test[0]"
   ]
  },
  {
   "cell_type": "code",
   "execution_count": 114,
   "id": "8548b97b",
   "metadata": {},
   "outputs": [
    {
     "data": {
      "text/plain": [
       "'{\"1950,1954\": [{\"song_title\": \"Não tem solução\", \"artist\": \"Dorival Caymmi\", \"release_date\": 1952, \"rank_position\": 22, \"lexical_complexity_score\": 0.6818182, \"mxm_dataset_ID\": \"TRPDNEY128F1472E46\"}, {\"song_title\": \"Sebastiana\", \"artist\": \"Jackson do Pandeiro\", \"release_date\": 1953, \"rank_position\": 58, \"lexical_complexity_score\": 0.6666667, \"mxm_dataset_ID\": \"TRJILUW128F92F8BFF\"}], \"1955,1959\": [{\"song_title\": \"Saudosa Maloca\", \"artist\": \"Demônios da Garoa\", \"release_date\": 1955, \"rank_position\": 2, \"lexical_complexity_score\": 0.5151515, \"mxm_dataset_ID\": \"TRCIOEX12903CB102E\"}, {\"song_title\": \"Saudade da Bahia\", \"artist\": \"Dorival Caymmi\", \"release_date\": 1957, \"rank_position\": 12, \"lexical_complexity_score\": 0.53333336, \"mxm_dataset_ID\": \"TRUATRA128F1475223\"}, {\"song_title\": \"Franqueza\", \"artist\": \"Maysa\", \"release_date\": 1957, \"rank_position\": 18, \"lexical_complexity_score\": 0.7105263, \"mxm_dataset_ID\": \"TRPYNGY12903CE2EA7\"}, {\"song_title\": \"Estrada do sol\", \"artist\": \"Agostinho dos Santos\", \"release_date\": 1958, \"rank_position\": 63, \"lexical_complexity_score\": 0.56666666, \"mxm_dataset_ID\": \"TRITTLF12903CB6892\"}, {\"song_title\": \"A Felicidade\", \"artist\": \"Agostinho dos Santos\", \"release_date\": 1959, \"rank_position\": 5, \"lexical_complexity_score\": 0.59090906, \"mxm_dataset_ID\": \"TRYTJCU128F4233C0F\"}, {\"song_title\": \"Ela Disse-me Assim\", \"artist\": \"Jamelão\", \"release_date\": 1959, \"rank_position\": 47, \"lexical_complexity_score\": 0.71875, \"mxm_dataset_ID\": \"TRVFPFO128F426E6D9\"}, {\"song_title\": \"Bim Bom\", \"artist\": \"João Gilberto\", \"release_date\": 1959, \"rank_position\": 64, \"lexical_complexity_score\": 0.4, \"mxm_dataset_ID\": \"TREGJMK12903D0077A\"}], \"1960,1960\": [{\"song_title\": \"Se acaso você chegasse\", \"artist\": \"Elza Soares\", \"release_date\": 1960, \"rank_position\": 12, \"lexical_complexity_score\": 0.75, \"mxm_dataset_ID\": \"TRRMHZH128F42714A6\"}]}'"
      ]
     },
     "execution_count": 114,
     "metadata": {},
     "output_type": "execute_result"
    }
   ],
   "source": [
    "test[0]"
   ]
  },
  {
   "cell_type": "code",
   "execution_count": 111,
   "id": "6002e9f9",
   "metadata": {},
   "outputs": [
    {
     "data": {
      "text/plain": [
       "'{\"1950,1954\": [{\"song_title\": \"Não tem solução\", \"artist\": \"Dorival Caymmi\", \"release_date\": 1952, \"rank_position\": 22, \"lexical_complexity_score\": 0.6818182, \"mxm_dataset_ID\": \"TRPDNEY128F1472E46\"}, {\"song_title\": \"Sebastiana\", \"artist\": \"Jackson do Pandeiro\", \"release_date\": 1953, \"rank_position\": 58, \"lexical_complexity_score\": 0.6666667, \"mxm_dataset_ID\": \"TRJILUW128F92F8BFF\"}], \"1955,1959\": [{\"song_title\": \"Saudosa Maloca\", \"artist\": \"Demônios da Garoa\", \"release_date\": 1955, \"rank_position\": 2, \"lexical_complexity_score\": 0.5151515, \"mxm_dataset_ID\": \"TRCIOEX12903CB102E\"}, {\"song_title\": \"Saudade da Bahia\", \"artist\": \"Dorival Caymmi\", \"release_date\": 1957, \"rank_position\": 12, \"lexical_complexity_score\": 0.53333336, \"mxm_dataset_ID\": \"TRUATRA128F1475223\"}, {\"song_title\": \"Franqueza\", \"artist\": \"Maysa\", \"release_date\": 1957, \"rank_position\": 18, \"lexical_complexity_score\": 0.7105263, \"mxm_dataset_ID\": \"TRPYNGY12903CE2EA7\"}, {\"song_title\": \"Estrada do sol\", \"artist\": \"Agostinho dos Santos\", \"release_date\": 1958, \"rank_position\": 63, \"lexical_complexity_score\": 0.56666666, \"mxm_dataset_ID\": \"TRITTLF12903CB6892\"}, {\"song_title\": \"A Felicidade\", \"artist\": \"Agostinho dos Santos\", \"release_date\": 1959, \"rank_position\": 5, \"lexical_complexity_score\": 0.59090906, \"mxm_dataset_ID\": \"TRYTJCU128F4233C0F\"}, {\"song_title\": \"Ela Disse-me Assim\", \"artist\": \"Jamelão\", \"release_date\": 1959, \"rank_position\": 47, \"lexical_complexity_score\": 0.71875, \"mxm_dataset_ID\": \"TRVFPFO128F426E6D9\"}, {\"song_title\": \"Bim Bom\", \"artist\": \"João Gilberto\", \"release_date\": 1959, \"rank_position\": 64, \"lexical_complexity_score\": 0.4, \"mxm_dataset_ID\": \"TREGJMK12903D0077A\"}], \"1960,1964\": [{\"song_title\": \"Se acaso você chegasse\", \"artist\": \"Elza Soares\", \"release_date\": 1960, \"rank_position\": 12, \"lexical_complexity_score\": 0.75, \"mxm_dataset_ID\": \"TRRMHZH128F42714A6\"}]}'"
      ]
     },
     "execution_count": 111,
     "metadata": {},
     "output_type": "execute_result"
    }
   ],
   "source": [
    "test[0]"
   ]
  },
  {
   "cell_type": "code",
   "execution_count": 96,
   "id": "255008aa",
   "metadata": {},
   "outputs": [
    {
     "data": {
      "text/plain": [
       "'{\"1950,1953\": [0.6818182, 0.6666667], \"1955,1958\": [0.5151515, 0.53333336, 0.7105263, 0.56666666], \"1959,1962\": [0.59090906, 0.71875, 0.4, 0.75]}'"
      ]
     },
     "execution_count": 96,
     "metadata": {},
     "output_type": "execute_result"
    }
   ],
   "source": [
    "test[0]"
   ]
  },
  {
   "cell_type": "code",
   "execution_count": null,
   "id": "ccc0b7d7",
   "metadata": {},
   "outputs": [],
   "source": [
    "url = \"https://split-by-interval-xg7jaquagq-rj.a.run.app\"\n",
    "\n",
    "payload = json.dumps({\n",
    "  \"resource\": \"get_average_lexical_complexity\",\n",
    "  \"min\": 1950,\n",
    "  \"max\": 1960,\n",
    "  \"timestamp\": 2\n",
    "})\n",
    "headers = {\n",
    "  'Content-Type': 'application/json'\n",
    "}\n",
    "\n",
    "response = requests.request(\"POST\", url, headers=headers, data=payload)\n",
    "\n",
    "print(response.text)"
   ]
  }
 ],
 "metadata": {
  "kernelspec": {
   "display_name": "Python 3 (ipykernel)",
   "language": "python",
   "name": "python3"
  },
  "language_info": {
   "codemirror_mode": {
    "name": "ipython",
    "version": 3
   },
   "file_extension": ".py",
   "mimetype": "text/x-python",
   "name": "python",
   "nbconvert_exporter": "python",
   "pygments_lexer": "ipython3",
   "version": "3.7.13"
  }
 },
 "nbformat": 4,
 "nbformat_minor": 5
}
